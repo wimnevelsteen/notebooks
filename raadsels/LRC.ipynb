{
 "cells": [
  {
   "cell_type": "code",
   "execution_count": 36,
   "id": "47ced700-d14c-4e1e-b14e-de6a2289a713",
   "metadata": {},
   "outputs": [],
   "source": [
    "from sympy import * \n",
    "from sympy import I\n",
    "\n",
    "L, C, R, w=symbols(\"L, C, R, w\", real=True)\n",
    "ZL, ZC, Z=symbols(\"ZL, ZC, Z\", complex=True)\n",
    "\n",
    "ZL=I*w*L\n",
    "ZC=1/(I*w*C)\n",
    "Z=ZL*ZC/(ZL+ZC) + ZC + R\n"
   ]
  },
  {
   "cell_type": "code",
   "execution_count": 32,
   "id": "ff9b534a-2b71-474c-8364-f3859ed2cea9",
   "metadata": {},
   "outputs": [],
   "source": [
    "Z=Z.simplify()\n"
   ]
  },
  {
   "cell_type": "code",
   "execution_count": 33,
   "id": "b84c569d-6155-40dd-956f-5ac83701875b",
   "metadata": {},
   "outputs": [
    {
     "data": {
      "text/latex": [
       "$\\displaystyle R + \\frac{L}{C \\left(i L w - \\frac{i}{C w}\\right)} - \\frac{i}{C w}$"
      ],
      "text/plain": [
       "R + L/(C*(I*L*w - I/(C*w))) - I/(C*w)"
      ]
     },
     "execution_count": 33,
     "metadata": {},
     "output_type": "execute_result"
    }
   ],
   "source": [
    "Z"
   ]
  },
  {
   "cell_type": "code",
   "execution_count": 34,
   "id": "1e4dbf5e-cd5d-41c9-a781-05662836c845",
   "metadata": {},
   "outputs": [],
   "source": [
    "x=x.simplify()"
   ]
  },
  {
   "cell_type": "code",
   "execution_count": 35,
   "id": "accfac12-5e5e-46ef-b798-4d7f7bfc76af",
   "metadata": {},
   "outputs": [
    {
     "data": {
      "text/latex": [
       "$\\displaystyle i a - b$"
      ],
      "text/plain": [
       "I*a - b"
      ]
     },
     "execution_count": 35,
     "metadata": {},
     "output_type": "execute_result"
    }
   ],
   "source": [
    "x"
   ]
  },
  {
   "cell_type": "code",
   "execution_count": null,
   "id": "a475dc65-0fed-4dfe-983a-65788c7753b2",
   "metadata": {},
   "outputs": [],
   "source": []
  },
  {
   "cell_type": "code",
   "execution_count": null,
   "id": "962ea777-5864-48b5-af38-3548d830ee68",
   "metadata": {},
   "outputs": [],
   "source": []
  },
  {
   "cell_type": "code",
   "execution_count": null,
   "id": "918ad0b7-9bf4-456e-8a67-10ae43ca7387",
   "metadata": {},
   "outputs": [],
   "source": []
  },
  {
   "cell_type": "code",
   "execution_count": null,
   "id": "7ac1f26e-932e-4717-abad-2adecd111d7a",
   "metadata": {},
   "outputs": [],
   "source": []
  },
  {
   "cell_type": "code",
   "execution_count": null,
   "id": "8563e7d8-3f22-4936-be05-91ad80595399",
   "metadata": {},
   "outputs": [],
   "source": []
  }
 ],
 "metadata": {
  "kernelspec": {
   "display_name": "Python 3 (ipykernel)",
   "language": "python",
   "name": "python3"
  },
  "language_info": {
   "codemirror_mode": {
    "name": "ipython",
    "version": 3
   },
   "file_extension": ".py",
   "mimetype": "text/x-python",
   "name": "python",
   "nbconvert_exporter": "python",
   "pygments_lexer": "ipython3",
   "version": "3.11.9"
  }
 },
 "nbformat": 4,
 "nbformat_minor": 5
}
