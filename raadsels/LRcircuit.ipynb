{
 "cells": [
  {
   "cell_type": "code",
   "execution_count": null,
   "id": "99731ee2-d8d9-4427-b923-6ee46e8485dc",
   "metadata": {},
   "outputs": [],
   "source": [
    "from sympy import * \n",
    "\n",
    "Iac, U1, U2 = symbols('Iac') \n",
    "\n",
    "eq1 = Eq(U1, 12) \n",
    "eq2 = Eq(U2, 24) \n",
    "eq2 = Eq(R1, )\n",
    "eq2 = Eq(R2, 24)\n",
    "\n",
    "solve(150 + m*g - A*L*g*, dict=True)\n",
    "\n",
    "solve([eq1,eq2,eq3,eq4,eq5,eq6,eq7,eq8, eq9, eq10, eq11, eq12], dict=True)\n",
    "\n",
    "solve([eq1,eq2,eq3,eq4,eq5,eq6,eq7,eq8, eq9, eq10, eq11, eq12], dict=True)\n",
    "\n",
    "\n",
    "\n",
    "\n"
   ]
  }
 ],
 "metadata": {
  "kernelspec": {
   "display_name": "Python 3 (ipykernel)",
   "language": "python",
   "name": "python3"
  },
  "language_info": {
   "codemirror_mode": {
    "name": "ipython",
    "version": 3
   },
   "file_extension": ".py",
   "mimetype": "text/x-python",
   "name": "python",
   "nbconvert_exporter": "python",
   "pygments_lexer": "ipython3",
   "version": "3.11.9"
  }
 },
 "nbformat": 4,
 "nbformat_minor": 5
}
