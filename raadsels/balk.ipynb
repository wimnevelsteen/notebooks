{
 "cells": [
  {
   "cell_type": "code",
   "execution_count": 20,
   "id": "fee81fd8-3939-4ab0-9d5c-5dcec4b50009",
   "metadata": {},
   "outputs": [
    {
     "name": "stdout",
     "output_type": "stream",
     "text": [
      "L_zwaartepunt 2.40000000000000\n",
      "L_onderwater 3.33333333333333\n",
      "stijging_zwaartepunt_balk 1.65833333333333\n",
      "Toename pot energie balk =  1243.75000000000\n",
      "Toename pot energie water =  1182.50000000000\n",
      "Netto arbeid =  2426.25000000000\n"
     ]
    }
   ],
   "source": [
    "from sympy import * \n",
    "\n",
    "g, A, rho_water, L, m_balk, L_zwaartepunt, L_onderwater = symbols(\"g, A, rho_water, L,  m_balk, L_zwaartepunt, L_onderwater\")\n",
    "\n",
    "g = 10\n",
    "A = 0.15*0.15\n",
    "rho_water = 1000\n",
    "L = 4\n",
    "m_balk = solve(150 + m_balk*g - A*L*rho_water*g, m_balk)[0]\n",
    "L_zwaartepunt = solve(A*L*rho_water*g*L/2 - m_balk*g*L_zwaartepunt, L_zwaartepunt)[0]\n",
    "L_onderwater = solve(A*L_onderwater*rho_water*g - m_balk*g, L_onderwater)[0]\n",
    "\n",
    "stijging_zwaartepunt_balk = -(0.15/2)-(4-L_onderwater-L_zwaartepunt)\n",
    "\n",
    "toename_pot_energie_balk = stijging_zwaartepunt_balk * m_balk * g\n",
    "\n",
    "print('L_zwaartepunt', L_zwaartepunt)\n",
    "print('L_onderwater', L_onderwater)\n",
    "print('stijging_zwaartepunt_balk', stijging_zwaartepunt_balk)\n",
    "\n",
    "print('Toename pot energie balk = ', toename_pot_energie_balk)\n",
    "\n",
    "toename_pot_energie_water = A*L*rho_water*g*(-0.15/2) +  A*L_onderwater*rho_water*g*(L_onderwater/2) \n",
    "\n",
    "print('Toename pot energie water = ', toename_pot_energie_water)\n",
    "\n",
    "print('Netto arbeid = ', toename_pot_energie_balk + toename_pot_energie_water) \n",
    "\n",
    "\n"
   ]
  },
  {
   "cell_type": "code",
   "execution_count": null,
   "id": "52a656bb-353e-4dac-bcc2-def2352c174b",
   "metadata": {},
   "outputs": [],
   "source": []
  },
  {
   "cell_type": "code",
   "execution_count": null,
   "id": "c99ff298-b520-4763-8f24-5b5ea5b51a43",
   "metadata": {},
   "outputs": [],
   "source": []
  }
 ],
 "metadata": {
  "kernelspec": {
   "display_name": "Python 3 (ipykernel)",
   "language": "python",
   "name": "python3"
  },
  "language_info": {
   "codemirror_mode": {
    "name": "ipython",
    "version": 3
   },
   "file_extension": ".py",
   "mimetype": "text/x-python",
   "name": "python",
   "nbconvert_exporter": "python",
   "pygments_lexer": "ipython3",
   "version": "3.11.9"
  }
 },
 "nbformat": 4,
 "nbformat_minor": 5
}
