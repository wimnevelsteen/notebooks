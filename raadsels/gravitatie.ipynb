{
 "cells": [
  {
   "cell_type": "code",
   "execution_count": 9,
   "id": "0058ab67-af92-4eb1-a0d8-49d966622beb",
   "metadata": {},
   "outputs": [
    {
     "name": "stdout",
     "output_type": "stream",
     "text": [
      "Gravitatie x: -3.1190387033068324e-16\n",
      "Gravitatie y: -1.3484608868931736e-13\n",
      "Gravitatie z: -57.73589766415522\n",
      "57.73589766415522\n"
     ]
    }
   ],
   "source": [
    "import numpy as np\n",
    "from scipy.integrate import tplquad\n",
    "\n",
    "a=6356000 #straal bij pool\n",
    "b=6378000 #straal bij evenaar\n",
    "c=6378000 #straal bij evenaar\n",
    "\n",
    "G=6.6743e-11 \n",
    "\n",
    "r_loc=1.001 #positie Chimay\n",
    "phi_loc=0 #positie Chimay\n",
    "theta_loc=np.radians(90) #positie Chimay\n",
    "\n",
    "rho = 5515 #massa dichtheid aarde\n",
    "\n",
    "#gravitatie: x-component\n",
    "gravx = tplquad(lambda phi, theta, r: rho*r**2 *a*b*c* np.sin(theta)*G*1/((r*a*np.sin(phi)*np.cos(theta) -  r_loc*a*np.sin(phi_loc)*np.cos(theta_loc))**2 +(r*b*np.sin(phi)*np.sin(theta) - r_loc*b*np.sin(phi_loc)*np.sin(theta_loc))**2+(r*c*np.cos(phi) - r_loc*c*np.cos(phi_loc))**2 )**1.5 *(r*a*np.sin(phi)*np.cos(theta) -  r_loc*a*np.sin(phi_loc)*np.cos(theta_loc))  ,\n",
    "            0, 1,\n",
    "            lambda theta: 0, np.pi,\n",
    "            lambda theta, phi: 0, 2*np.pi,\n",
    "            epsabs=0.000001, epsrel=0.000001)\n",
    "\n",
    "print('Gravitatie x: ' +  str(gravx[0]) )\n",
    "\n",
    "#gravitatie: y-component\n",
    "gravy = tplquad(lambda phi, theta, r: rho*r**2 *a*b*c* np.sin(theta)*G*1/((r*a*np.sin(phi)*np.cos(theta) -  r_loc*a*np.sin(phi_loc)*np.cos(theta_loc))**2 +(r*b*np.sin(phi)*np.sin(theta) - r_loc*b*np.sin(phi_loc)*np.sin(theta_loc))**2+(r*c*np.cos(phi) - r_loc*c*np.cos(phi_loc))**2 )**1.5 *(r*b*np.sin(phi)*np.sin(theta) - r_loc*b*np.sin(phi_loc)*np.sin(theta_loc))  ,\n",
    "            0, 1,\n",
    "            lambda theta: 0, np.pi,\n",
    "            lambda theta, phi: 0, 2*np.pi,\n",
    "            epsabs=0.000001, epsrel=0.000001)\n",
    "\n",
    "print('Gravitatie y: ' +  str(gravy[0]) )\n",
    "\n",
    "#gravitatie: z-component\n",
    "gravz = tplquad(lambda phi, theta, r: rho*r**2 *a*b*c* np.sin(theta)*G*1/((r*a*np.sin(phi)*np.cos(theta) -  r_loc*a*np.sin(phi_loc)*np.cos(theta_loc))**2 +(r*b*np.sin(phi)*np.sin(theta) - r_loc*b*np.sin(phi_loc)*np.sin(theta_loc))**2+(r*c*np.cos(phi) - r_loc*c*np.cos(phi_loc))**2 )**1.5 *(r*c*np.cos(phi) - r_loc*c*np.cos(phi_loc) )  ,\n",
    "            0, 1,\n",
    "            lambda theta: 0, np.pi,\n",
    "            lambda theta, phi: 0, 2*np.pi,\n",
    "            epsabs=0.1, epsrel=0.1)\n",
    "\n",
    "print('Gravitatie z: ' +  str(gravz[0]) )\n",
    "\n",
    "print((gravx[0]**2+gravy[0]**2+gravz[0]**2)**0.5)"
   ]
  },
  {
   "cell_type": "code",
   "execution_count": null,
   "id": "c5ccfe9f-c79e-46d7-ba8c-b0f8faddeaa6",
   "metadata": {},
   "outputs": [],
   "source": [
    "(gravx[0]**2+gravy[0]**2+gravz[0]**2)**0.5\n"
   ]
  },
  {
   "cell_type": "code",
   "execution_count": 8,
   "id": "293dff96-cafd-4dfd-bf8c-f6c40a2c901d",
   "metadata": {},
   "outputs": [
    {
     "name": "stdout",
     "output_type": "stream",
     "text": [
      "2.4499868138655567\n"
     ]
    }
   ],
   "source": [
    "print(G*4/3*np.pi*a**3*rho/(2*6356000)**2)"
   ]
  },
  {
   "cell_type": "code",
   "execution_count": null,
   "id": "7d997140-0f21-4c2a-bb9a-b5f9cbb4df6d",
   "metadata": {},
   "outputs": [],
   "source": []
  }
 ],
 "metadata": {
  "kernelspec": {
   "display_name": "Python 3 (ipykernel)",
   "language": "python",
   "name": "python3"
  },
  "language_info": {
   "codemirror_mode": {
    "name": "ipython",
    "version": 3
   },
   "file_extension": ".py",
   "mimetype": "text/x-python",
   "name": "python",
   "nbconvert_exporter": "python",
   "pygments_lexer": "ipython3",
   "version": "3.11.9"
  }
 },
 "nbformat": 4,
 "nbformat_minor": 5
}
