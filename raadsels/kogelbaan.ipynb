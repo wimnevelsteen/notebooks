{
 "cells": [
  {
   "cell_type": "code",
   "execution_count": 1,
   "id": "0cfb0ab2-1938-449b-8edf-aef25f104ad9",
   "metadata": {},
   "outputs": [
    {
     "name": "stdout",
     "output_type": "stream",
     "text": [
      "[0.217494696327938]\n"
     ]
    }
   ],
   "source": [
    "from sympy import * \n",
    "\n",
    "V, k, R, beta, g, m, V=symbols(\"V, k, R, beta, g, m, V\")\n",
    "\n",
    "V = k*R**2*( (6-4*cos(beta)-2*sin(beta))**0.5-1)**2/2+m*g*(R-R*sin(beta))\n",
    "V = V.subs(g, 9.81).subs(R, 0.2).subs(k, 180)\n",
    "\n",
    "dVdbeta=diff(V,beta)\n",
    "\n",
    "dVdbeta=dVdbeta.subs(beta, 33*pi/180)\n",
    "m = solve(dVdbeta)\n",
    "\n",
    "V0 = \n",
    "\n",
    "print(m)\n"
   ]
  },
  {
   "cell_type": "code",
   "execution_count": 13,
   "id": "9302747c-26f8-40b5-83af-0221a9e439cc",
   "metadata": {},
   "outputs": [
    {
     "data": {
      "text/latex": [
       "$\\displaystyle 0.357881357770148 - 1.64547165430892 m$"
      ],
      "text/plain": [
       "0.357881357770148 - 1.64547165430892*m"
      ]
     },
     "execution_count": 13,
     "metadata": {},
     "output_type": "execute_result"
    }
   ],
   "source": [
    "dVdbeta.evalf()"
   ]
  },
  {
   "cell_type": "code",
   "execution_count": null,
   "id": "60fd4fe5-65c7-4fee-9172-06dd8a71b0be",
   "metadata": {},
   "outputs": [],
   "source": []
  }
 ],
 "metadata": {
  "kernelspec": {
   "display_name": "Python 3 (ipykernel)",
   "language": "python",
   "name": "python3"
  },
  "language_info": {
   "codemirror_mode": {
    "name": "ipython",
    "version": 3
   },
   "file_extension": ".py",
   "mimetype": "text/x-python",
   "name": "python",
   "nbconvert_exporter": "python",
   "pygments_lexer": "ipython3",
   "version": "3.11.9"
  }
 },
 "nbformat": 4,
 "nbformat_minor": 5
}
