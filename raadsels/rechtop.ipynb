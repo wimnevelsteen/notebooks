{
 "cells": [
  {
   "cell_type": "code",
   "execution_count": 1,
   "id": "b4a51d8c-970e-4096-b3d6-fad25bf2f602",
   "metadata": {},
   "outputs": [],
   "source": [
    "from sympy import *\n",
    "\n",
    "m, L, I, omega, g, J, t1, t2, v_vert = symbols('m, L, I, omega, g, J, t1, t2, v_vert') \n",
    "g = 10\n",
    "I = m*L**2/12\n",
    "omega = (J*L/2*cos(pi/4))/I\n",
    "t1=2*pi/omega"
   ]
  },
  {
   "cell_type": "code",
   "execution_count": 2,
   "id": "c36a3c98-e1fa-4709-b316-e35caa7f9615",
   "metadata": {},
   "outputs": [
    {
     "data": {
      "text/latex": [
       "$\\displaystyle \\frac{\\sqrt{2} \\pi L m}{3 J}$"
      ],
      "text/plain": [
       "sqrt(2)*pi*L*m/(3*J)"
      ]
     },
     "execution_count": 2,
     "metadata": {},
     "output_type": "execute_result"
    }
   ],
   "source": [
    "t1"
   ]
  },
  {
   "cell_type": "code",
   "execution_count": 3,
   "id": "709cc656-48e5-4edc-affb-88a844fdd6f4",
   "metadata": {},
   "outputs": [],
   "source": [
    "v_vert=J/m*sin(pi/4)\n",
    "t2 = 2*v_vert/g"
   ]
  },
  {
   "cell_type": "code",
   "execution_count": 4,
   "id": "db8ebfea-fe97-414f-b63d-6e4ffc53118d",
   "metadata": {},
   "outputs": [
    {
     "data": {
      "text/latex": [
       "$\\displaystyle \\frac{\\sqrt{2} J}{10 m}$"
      ],
      "text/plain": [
       "sqrt(2)*J/(10*m)"
      ]
     },
     "execution_count": 4,
     "metadata": {},
     "output_type": "execute_result"
    }
   ],
   "source": [
    "t2"
   ]
  },
  {
   "cell_type": "code",
   "execution_count": 5,
   "id": "5d321009-1d3f-4c16-9c76-da23fbf1e697",
   "metadata": {},
   "outputs": [
    {
     "data": {
      "text/plain": [
       "[-sqrt(30)*sqrt(pi)*sqrt(L)*m/3, sqrt(30)*sqrt(pi)*sqrt(L)*m/3]"
      ]
     },
     "execution_count": 5,
     "metadata": {},
     "output_type": "execute_result"
    }
   ],
   "source": [
    "solve(t1-t2, J)"
   ]
  },
  {
   "cell_type": "code",
   "execution_count": null,
   "id": "32f4762a-0eba-43b8-b79e-c77f84100565",
   "metadata": {},
   "outputs": [],
   "source": []
  }
 ],
 "metadata": {
  "kernelspec": {
   "display_name": "Python 3 (ipykernel)",
   "language": "python",
   "name": "python3"
  },
  "language_info": {
   "codemirror_mode": {
    "name": "ipython",
    "version": 3
   },
   "file_extension": ".py",
   "mimetype": "text/x-python",
   "name": "python",
   "nbconvert_exporter": "python",
   "pygments_lexer": "ipython3",
   "version": "3.11.9"
  }
 },
 "nbformat": 4,
 "nbformat_minor": 5
}
