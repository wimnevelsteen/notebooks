{
 "cells": [
  {
   "cell_type": "code",
   "execution_count": null,
   "id": "02102fc3-9c4a-4eb8-8e5e-e46afe289628",
   "metadata": {},
   "outputs": [],
   "source": [
    "from sympy import *\n",
    "\n",
    "m, L, I, omega, g, J, t1, t2, v_vert = symbols('m, L, I, omega, g, J, t1, t2, v_vert') \n",
    "g = 10\n",
    "I = m*L**2/12\n",
    "omega = (J*L/2*cos(pi/4))/I\n",
    "t1=2*pi/omega"
   ]
  }
 ],
 "metadata": {
  "kernelspec": {
   "display_name": "Python 3 (ipykernel)",
   "language": "python",
   "name": "python3"
  },
  "language_info": {
   "codemirror_mode": {
    "name": "ipython",
    "version": 3
   },
   "file_extension": ".py",
   "mimetype": "text/x-python",
   "name": "python",
   "nbconvert_exporter": "python",
   "pygments_lexer": "ipython3",
   "version": "3.11.9"
  }
 },
 "nbformat": 4,
 "nbformat_minor": 5
}
