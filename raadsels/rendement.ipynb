{
 "cells": [
  {
   "cell_type": "code",
   "execution_count": 10,
   "id": "7877aaf5-33f8-4bf3-a944-1ec655f307e7",
   "metadata": {},
   "outputs": [
    {
     "name": "stdout",
     "output_type": "stream",
     "text": [
      "Qin =  10595.2500000000\n",
      "Wuit =  623.250000000000\n",
      "rendement =  0.0588235294117647\n"
     ]
    }
   ],
   "source": [
    "from sympy import * \n",
    "\n",
    "V = symbols('V') \n",
    "\n",
    "R=8.31\n",
    "Cv=5/2*R\n",
    "\n",
    "P=R*(300+(300/0.01)*(V**2-0.01))/V\n",
    "\n",
    "W12=integrate(P, (V, 10**-1, 2**0.5*10**-1))\n",
    "U12=Cv*300\n",
    "Q12=U12+W12\n",
    "\n",
    "W23=0\n",
    "U23=-300*Cv\n",
    "Q23=U23+W23\n",
    "\n",
    "P=R*(150+(150/0.01)*(V**2-0.01))/V\n",
    "W34 = integrate(P, (V, 2**0.5*10**-1, 10**-1))\n",
    "U34=-150*Cv\n",
    "Q34=U34+W34\n",
    "\n",
    "W41=0\n",
    "U41=150*Cv\n",
    "Q41=U41+W41\n",
    "\n",
    "rendement = (W12+W23+W34+W41)/(Q12+Q23+Q34+Q41)\n",
    "\n",
    "Qin = Q12+Q41\n",
    "Wuit = W12 + W34\n",
    "\n",
    "print(\"Qin = \", Qin)\n",
    "print(\"Wuit = \", Wuit)\n",
    "\n",
    "print(\"rendement = \", Wuit/Qin)\n",
    "\n"
   ]
  },
  {
   "cell_type": "code",
   "execution_count": 6,
   "id": "2c8c0368-67c0-4a97-81e4-4369c4a834d3",
   "metadata": {},
   "outputs": [
    {
     "name": "stdout",
     "output_type": "stream",
     "text": [
      "Q12 =  4986.00000000000\n",
      "W12 =  1246.50000000000\n",
      "Q23 =  -6232.500000000001\n",
      "W23 =  0\n",
      "Q34 =  -2493.00000000000\n",
      "W34 =  -623.250000000000\n",
      "Q41 =  3116.2500000000005\n",
      "W41 =  0\n"
     ]
    }
   ],
   "source": [
    "print(\"Q12 = \",  Q12)\n",
    "print(\"W12 = \",  W12)\n",
    "print(\"Q23 = \",  Q23)\n",
    "print(\"W23 = \",  W23)\n",
    "print(\"Q34 = \",  Q34)\n",
    "print(\"W34 = \",  W34)\n",
    "print(\"Q41 = \",  Q41)\n",
    "print(\"W41 = \",  W41)"
   ]
  },
  {
   "cell_type": "code",
   "execution_count": null,
   "id": "059ff283-c9c5-45a8-baa0-4c440735d4c4",
   "metadata": {},
   "outputs": [],
   "source": []
  }
 ],
 "metadata": {
  "kernelspec": {
   "display_name": "Python 3 (ipykernel)",
   "language": "python",
   "name": "python3"
  },
  "language_info": {
   "codemirror_mode": {
    "name": "ipython",
    "version": 3
   },
   "file_extension": ".py",
   "mimetype": "text/x-python",
   "name": "python",
   "nbconvert_exporter": "python",
   "pygments_lexer": "ipython3",
   "version": "3.11.9"
  }
 },
 "nbformat": 4,
 "nbformat_minor": 5
}
