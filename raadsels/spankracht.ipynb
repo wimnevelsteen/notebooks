{
 "cells": [
  {
   "cell_type": "code",
   "execution_count": 6,
   "id": "9792ca90-98c1-4a9b-8954-ec26f1dfcc54",
   "metadata": {},
   "outputs": [
    {
     "name": "stdout",
     "output_type": "stream",
     "text": [
      "14.0\n",
      "8.698224852071005\n",
      "3375.0 50875.0 63375.0\n"
     ]
    }
   ],
   "source": [
    "from sympy import * \n",
    "\n",
    "x_1, v_1, x_2, v_2, x_3, v_3, F1  = symbols(\"x_1, v_1, x_2, v_2, x_3, v_3, F1\")\n",
    "\n",
    "x_1 = 30*15**2/2\n",
    "v_1 = 30*15\n",
    "x_2 = 20*50**2/2 + v_1*50 + x_1\n",
    "v_2 = v_1 + 20*50\n",
    "x_3 = -40*10**2/2 + v_2*10 + x_2\n",
    "v_3 = v_2 - 10*40\n",
    "\n",
    "t_totaal = 15+50+10\n",
    "F1 = v_3/t_totaal \n",
    "print(F1)\n",
    "F2 = (v_3**2/2) / x_3  \n",
    "print(F2)\n",
    "print(x_1, x_2, x_3)\n",
    "\n",
    "\n",
    "\n",
    "\n",
    "\n",
    "\n"
   ]
  },
  {
   "cell_type": "code",
   "execution_count": null,
   "id": "b2e783ed-2546-4bfb-81d2-1207590d90d3",
   "metadata": {},
   "outputs": [],
   "source": []
  },
  {
   "cell_type": "code",
   "execution_count": null,
   "id": "3b71f084-07ed-4bb1-b006-59fefe1d158a",
   "metadata": {},
   "outputs": [],
   "source": []
  }
 ],
 "metadata": {
  "kernelspec": {
   "display_name": "Python 3 (ipykernel)",
   "language": "python",
   "name": "python3"
  },
  "language_info": {
   "codemirror_mode": {
    "name": "ipython",
    "version": 3
   },
   "file_extension": ".py",
   "mimetype": "text/x-python",
   "name": "python",
   "nbconvert_exporter": "python",
   "pygments_lexer": "ipython3",
   "version": "3.11.9"
  }
 },
 "nbformat": 4,
 "nbformat_minor": 5
}
